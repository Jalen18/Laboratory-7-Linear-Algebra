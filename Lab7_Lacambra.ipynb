{
  "nbformat": 4,
  "nbformat_minor": 0,
  "metadata": {
    "colab": {
      "name": "Lab7_Lacambra.ipynb",
      "private_outputs": true,
      "provenance": [],
      "authorship_tag": "ABX9TyP0OS0SPsnziAQyewbZwB8u",
      "include_colab_link": true
    },
    "kernelspec": {
      "name": "python3",
      "display_name": "Python 3"
    },
    "language_info": {
      "name": "python"
    }
  },
  "cells": [
    {
      "cell_type": "markdown",
      "metadata": {
        "id": "view-in-github",
        "colab_type": "text"
      },
      "source": [
        "<a href=\"https://colab.research.google.com/github/Jalen18/Laboratory-7-Linear-Algebra/blob/main/Lab7_Lacambra.ipynb\" target=\"_parent\"><img src=\"https://colab.research.google.com/assets/colab-badge.svg\" alt=\"Open In Colab\"/></a>"
      ]
    },
    {
      "cell_type": "markdown",
      "metadata": {
        "id": "GG3d52Zsmr_l"
      },
      "source": [
        "### TASK1"
      ]
    },
    {
      "cell_type": "markdown",
      "metadata": {
        "id": "k_dtB6PTmxsA"
      },
      "source": [
        "$$J = \\begin{bmatrix} 3 & 2 & 4\\\\3 & 2 &6 \\\\ 4 & 3 & 1\\end{bmatrix} $$\n",
        "\n",
        "$$A = \\begin{bmatrix} 3 & 5 & 1\\\\4 & 5 &6 \\\\ 4 & 1 & 3\\end{bmatrix} $$\n",
        "\n",
        "$$L = \\begin{bmatrix} 7 & 3 & 5\\\\1 & 3 &2 \\\\ 6 & 1 & 3\\end{bmatrix} $$\n",
        "\n",
        "$$E = np.identy (3)$$\n",
        "\n",
        "$$N = np.zeroes (3)$$\n"
      ]
    },
    {
      "cell_type": "code",
      "metadata": {
        "id": "mDZJS_9ThGa3"
      },
      "source": [
        "import numpy as np\n",
        "\n",
        "J = np.array([[3, 2, 4], [3, 2, 6], [4, 3, 1]])\n",
        "A = np.array([[3, 5, 1], [4, 5, 6], [4, 1, 3]])\n",
        "L = np.array([[7, 3, 5], [1, 3, 2], [6, 1, 3]])\n",
        "E = np.identity(3)\n",
        "N = np.zeros(3)\n",
        "\n",
        "print(\"Shapes\")\n",
        "print('Shape of J is', J.shape)\n",
        "print('Shape of A is', A.shape)\n",
        "print('Shape of L is', L.shape)\n",
        "print('Shape of E is', E.shape)\n",
        "print('Shape of N is', N.shape)\n",
        "print(\" \")"
      ],
      "execution_count": null,
      "outputs": []
    },
    {
      "cell_type": "code",
      "metadata": {
        "id": "LrTUQPjmiSUT"
      },
      "source": [
        "def Commutative(MatrixA,MatrixB):\n",
        "  Comm_JA = np.dot(J, A)\n",
        "  Comm_AJ = np.dot(A, J)\n",
        "  print('Commutative Property')\n",
        "  print(Comm_JA, 'is not equal to', Comm_AJ)\n",
        "  print(\" \")\n",
        "Commutative(J, A)"
      ],
      "execution_count": null,
      "outputs": []
    },
    {
      "cell_type": "code",
      "metadata": {
        "id": "U5xxkp-b1EBP"
      },
      "source": [
        "def Associative(MatrixA,MatrixB,MatrixC):\n",
        "  Asso_JA = np.dot(J, A)\n",
        "  Asso_JAL = np.dot(Asso_JA, L)\n",
        "  Asso_AL = np.dot(A, L)\n",
        "  Asso_ALJ = np.dot(J, Asso_AL)\n",
        "  print('Associative Property')\n",
        "  print(Asso_JAL, 'is equal to', Asso_ALJ)\n",
        "  print(\" \")\n",
        "Associative(J, A, L)"
      ],
      "execution_count": null,
      "outputs": []
    },
    {
      "cell_type": "code",
      "metadata": {
        "id": "IxVyDsME2sXY"
      },
      "source": [
        "def Distributive(MatrixA,MatrixB,MatrixC):\n",
        "  Distri_AL = np.add(A, L)\n",
        "  Distri_JAL = np.dot(J, Distri_AL)\n",
        "  Distri_JA = np.dot(J, A)\n",
        "  Distri_JL = np.dot(J, L)\n",
        "  print('Distribute Property # 1')\n",
        "  print(Distri_JAL, 'is equal to', Distri_JA + Distri_JL)\n",
        "  print(' ')\n",
        "\n",
        "  Distri_ALJ = np.dot(Distri_AL, J)\n",
        "  Distri_AJ = np.dot(J, A)\n",
        "  Distri_LJ = np.dot(L, J)\n",
        "  print('Distribute Property # 2')\n",
        "  print(Distri_ALJ, 'is equal to', Distri_AJ + Distri_LJ)\n",
        "  print(' ')\n",
        "Distributive(J, A, L)"
      ],
      "execution_count": null,
      "outputs": []
    },
    {
      "cell_type": "code",
      "metadata": {
        "id": "ZMj2nXmu4ajY"
      },
      "source": [
        "def Identity(MatrixJ,MatrixE):\n",
        "  IdentJ1 = np.dot(MatrixJ, MatrixE)\n",
        "  Ident1J = np.dot(MatrixE, MatrixJ)\n",
        "  print('Identity Property')\n",
        "  print(IdentJ1, 'is equal to', Ident1J)\n",
        "  print(' ')\n",
        "Identity(J, E)"
      ],
      "execution_count": null,
      "outputs": []
    },
    {
      "cell_type": "code",
      "metadata": {
        "id": "BG4UzQD85QE-"
      },
      "source": [
        "def Zero(MatrixA,MatrixN):\n",
        "  ZeroA0 = np.dot(MatrixA, MatrixN)\n",
        "  Zero0A = np.dot(MatrixN, MatrixA)\n",
        "  print('Zero Property')\n",
        "  print(ZeroA0, 'is equal to', Zero0A)\n",
        "  print(' ')\n",
        "Zero(A, N)"
      ],
      "execution_count": null,
      "outputs": []
    },
    {
      "cell_type": "code",
      "metadata": {
        "id": "SoQKu3gk6fLy"
      },
      "source": [
        "def Dimension(MatrixJ,MatrixA):\n",
        "  MatrixJ.shape[0]\n",
        "  MatrixA.shape[1]\n",
        "  print('Dimension Property')\n",
        "  print(MatrixJ[0], MatrixA[1])\n",
        "  print(' ')\n",
        "Dimension(J,A)"
      ],
      "execution_count": null,
      "outputs": []
    },
    {
      "cell_type": "code",
      "metadata": {
        "id": "XXxQE3be7FIo"
      },
      "source": [
        ""
      ],
      "execution_count": null,
      "outputs": []
    }
  ]
}